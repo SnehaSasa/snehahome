{
  "cells": [
    {
      "cell_type": "code",
      "execution_count": 78,
      "metadata": {
        "id": "ANOfAAPoRAwk"
      },
      "outputs": [],
      "source": [
        "import pandas as pd\n",
        "import re\n",
        "import openpyxl\n",
        "import os"
      ]
    },
    {
      "cell_type": "code",
      "execution_count": 79,
      "metadata": {
        "id": "9v4Phqq246QB"
      },
      "outputs": [],
      "source": [
        "log_file_path = \"/content/sampleLogFile.txt\""
      ]
    },
    {
      "cell_type": "code",
      "execution_count": 80,
      "metadata": {
        "id": "Au7FHwsiUBeL"
      },
      "outputs": [],
      "source": [
        "my_pattern_input = \"mailslot\"\n",
        "my_pattern = my_pattern_input"
      ]
    },
    {
      "cell_type": "code",
      "execution_count": 81,
      "metadata": {
        "id": "ITtZuxj5Vtkq"
      },
      "outputs": [],
      "source": [
        "with open(log_file_path, 'r') as file:\n",
        "    log_data = file.read()"
      ]
    },
    {
      "cell_type": "code",
      "execution_count": 82,
      "metadata": {
        "id": "2aLicP9Z5Qwv"
      },
      "outputs": [],
      "source": [
        "log_lines = log_data.strip().split('\\n')\n",
        "log_df = pd.DataFrame(log_lines, columns=['log'])\n",
        "#print(log_df)"
      ]
    },
    {
      "cell_type": "code",
      "execution_count": 83,
      "metadata": {
        "colab": {
          "base_uri": "https://localhost:8080/"
        },
        "id": "psAn9wRa5yxa",
        "outputId": "68ca7d73-7f6c-4d83-c2f1-240d84bb2f2e"
      },
      "outputs": [
        {
          "name": "stdout",
          "output_type": "stream",
          "text": [
            "                                                   log   date      time  \\\n",
            "0                                                  01     NaN       NaN   \n",
            "1    03/22 08:51:01 INFO   :.main: *************** ...  03/22  08:51:01   \n",
            "2                                                  02     NaN       NaN   \n",
            "3    03/22 08:51:01 INFO   :...locate_configFile: S...  03/22  08:51:01   \n",
            "4    03/22 08:51:01 INFO   :.main: Using log level 511  03/22  08:51:01   \n",
            "..                                                 ...    ...       ...   \n",
            "363  03/22 08:54:53 INFO   :......term_policyAPI: P...  03/22  08:54:53   \n",
            "364  03/22 08:54:53 INFO   :......dreg_process: der...  03/22  08:54:53   \n",
            "365  03/22 08:54:53 INFO   :......dreg_process: att...  03/22  08:54:53   \n",
            "366  03/22 08:54:53 INFO   :......dreg_process: rc ...  03/22  08:54:53   \n",
            "367  03/22 08:54:53 INFO   :.....terminator: proces...  03/22  08:54:53   \n",
            "\n",
            "    log_level          component  \\\n",
            "0         NaN                NaN   \n",
            "1        INFO               main   \n",
            "2         NaN                NaN   \n",
            "3        INFO  locate_configFile   \n",
            "4        INFO               main   \n",
            "..        ...                ...   \n",
            "363      INFO     term_policyAPI   \n",
            "364      INFO       dreg_process   \n",
            "365      INFO       dreg_process   \n",
            "366      INFO       dreg_process   \n",
            "367      INFO         terminator   \n",
            "\n",
            "                                               message  \n",
            "0                                                  NaN  \n",
            "1    *************** RSVP Agent started ***********...  \n",
            "2                                                  NaN  \n",
            "3    Specified configuration file: /u/user10/rsvpd1...  \n",
            "4                                  Using log level 511  \n",
            "..                                                 ...  \n",
            "363                              Policy API terminated  \n",
            "364              deregistering process with the system  \n",
            "365                 attempt to dereg (ifaeddrg_byaddr)  \n",
            "366                     rc from ifaeddrg_byaddr  rc =0  \n",
            "367                process terminated with exit code 0  \n",
            "\n",
            "[368 rows x 6 columns]\n"
          ]
        }
      ],
      "source": [
        "# Extract columns from the log\n",
        "log_df[['date', 'time', 'log_level', 'component', 'message']] = log_df['log'].str.extract(r'(\\d{2}/\\d{2})\\s(\\d{2}:\\d{2}:\\d{2})\\s(INFO|ERROR|DEBUG|WARNING)\\s*[:.]*([^:]*):\\s*(.*)')\n",
        "print(log_df)"
      ]
    },
    {
      "cell_type": "code",
      "execution_count": 84,
      "metadata": {
        "colab": {
          "base_uri": "https://localhost:8080/"
        },
        "id": "ulZyr4QP51nr",
        "outputId": "27931f36-b2f2-400b-ba94-355531669691"
      },
      "outputs": [
        {
          "name": "stdout",
          "output_type": "stream",
          "text": [
            "<bound method DataFrame.dropna of                                                    log   date      time  \\\n",
            "1    03/22 08:51:01 INFO   :.main: *************** ...  03/22  08:51:01   \n",
            "3    03/22 08:51:01 INFO   :...locate_configFile: S...  03/22  08:51:01   \n",
            "4    03/22 08:51:01 INFO   :.main: Using log level 511  03/22  08:51:01   \n",
            "5    03/22 08:51:01 INFO   :..settcpimage: Get TCP ...  03/22  08:51:01   \n",
            "7    03/22 08:51:01 INFO   :..settcpimage: Associat...  03/22  08:51:01   \n",
            "..                                                 ...    ...       ...   \n",
            "363  03/22 08:54:53 INFO   :......term_policyAPI: P...  03/22  08:54:53   \n",
            "364  03/22 08:54:53 INFO   :......dreg_process: der...  03/22  08:54:53   \n",
            "365  03/22 08:54:53 INFO   :......dreg_process: att...  03/22  08:54:53   \n",
            "366  03/22 08:54:53 INFO   :......dreg_process: rc ...  03/22  08:54:53   \n",
            "367  03/22 08:54:53 INFO   :.....terminator: proces...  03/22  08:54:53   \n",
            "\n",
            "    log_level          component  \\\n",
            "1        INFO               main   \n",
            "3        INFO  locate_configFile   \n",
            "4        INFO               main   \n",
            "5        INFO        settcpimage   \n",
            "7        INFO        settcpimage   \n",
            "..        ...                ...   \n",
            "363      INFO     term_policyAPI   \n",
            "364      INFO       dreg_process   \n",
            "365      INFO       dreg_process   \n",
            "366      INFO       dreg_process   \n",
            "367      INFO         terminator   \n",
            "\n",
            "                                               message  \n",
            "1    *************** RSVP Agent started ***********...  \n",
            "3    Specified configuration file: /u/user10/rsvpd1...  \n",
            "4                                  Using log level 511  \n",
            "5    Get TCP images rc - EDC8112I Operation not sup...  \n",
            "7             Associate with TCP/IP image name = TCPCS  \n",
            "..                                                 ...  \n",
            "363                              Policy API terminated  \n",
            "364              deregistering process with the system  \n",
            "365                 attempt to dereg (ifaeddrg_byaddr)  \n",
            "366                     rc from ifaeddrg_byaddr  rc =0  \n",
            "367                process terminated with exit code 0  \n",
            "\n",
            "[151 rows x 6 columns]>\n"
          ]
        }
      ],
      "source": [
        "# Drop rows with NaN values resulting from splitting\n",
        "log_df.dropna(subset=['date', 'time', 'log_level', 'component', 'message'], inplace=True)\n",
        "print(log_df.dropna)"
      ]
    },
    {
      "cell_type": "code",
      "execution_count": 85,
      "metadata": {
        "colab": {
          "base_uri": "https://localhost:8080/"
        },
        "id": "tcL2gSbeBS-g",
        "outputId": "00c003c1-c47b-4335-c6ab-49437a0c09e7"
      },
      "outputs": [
        {
          "name": "stdout",
          "output_type": "stream",
          "text": [
            "                                                   log   date      time  \\\n",
            "1    03/22 08:51:01 INFO   :.main: *************** ...  03/22  08:51:01   \n",
            "3    03/22 08:51:01 INFO   :...locate_configFile: S...  03/22  08:51:01   \n",
            "4    03/22 08:51:01 INFO   :.main: Using log level 511  03/22  08:51:01   \n",
            "5    03/22 08:51:01 INFO   :..settcpimage: Get TCP ...  03/22  08:51:01   \n",
            "7    03/22 08:51:01 INFO   :..settcpimage: Associat...  03/22  08:51:01   \n",
            "..                                                 ...    ...       ...   \n",
            "363  03/22 08:54:53 INFO   :......term_policyAPI: P...  03/22  08:54:53   \n",
            "364  03/22 08:54:53 INFO   :......dreg_process: der...  03/22  08:54:53   \n",
            "365  03/22 08:54:53 INFO   :......dreg_process: att...  03/22  08:54:53   \n",
            "366  03/22 08:54:53 INFO   :......dreg_process: rc ...  03/22  08:54:53   \n",
            "367  03/22 08:54:53 INFO   :.....terminator: proces...  03/22  08:54:53   \n",
            "\n",
            "    log_level          component  \\\n",
            "1        INFO               main   \n",
            "3        INFO  locate_configFile   \n",
            "4        INFO               main   \n",
            "5        INFO        settcpimage   \n",
            "7        INFO        settcpimage   \n",
            "..        ...                ...   \n",
            "363      INFO     term_policyAPI   \n",
            "364      INFO       dreg_process   \n",
            "365      INFO       dreg_process   \n",
            "366      INFO       dreg_process   \n",
            "367      INFO         terminator   \n",
            "\n",
            "                                               message  \n",
            "1    *************** RSVP Agent started ***********...  \n",
            "3    Specified configuration file: /u/user10/rsvpd1...  \n",
            "4                                  Using log level 511  \n",
            "5    Get TCP images rc - EDC8112I Operation not sup...  \n",
            "7             Associate with TCP/IP image name = TCPCS  \n",
            "..                                                 ...  \n",
            "363                              Policy API terminated  \n",
            "364              deregistering process with the system  \n",
            "365                 attempt to dereg (ifaeddrg_byaddr)  \n",
            "366                     rc from ifaeddrg_byaddr  rc =0  \n",
            "367                process terminated with exit code 0  \n",
            "\n",
            "[151 rows x 6 columns]\n"
          ]
        }
      ],
      "source": [
        "print(log_df)"
      ]
    },
    {
      "cell_type": "code",
      "execution_count": 86,
      "metadata": {
        "colab": {
          "base_uri": "https://localhost:8080/"
        },
        "id": "lbI33oQM6BBJ",
        "outputId": "9be5dd16-66e7-4902-bcc2-24cf24937466"
      },
      "outputs": [
        {
          "name": "stdout",
          "output_type": "stream",
          "text": [
            "151\n",
            "6\n"
          ]
        }
      ],
      "source": [
        "# Display the count of rows and columns imported\n",
        "rows, columns = log_df.shape\n",
        "print(rows)\n",
        "print(columns)"
      ]
    },
    {
      "cell_type": "code",
      "execution_count": 87,
      "metadata": {
        "colab": {
          "base_uri": "https://localhost:8080/"
        },
        "id": "KKCHPVQw6FQs",
        "outputId": "494d7639-3ffd-450b-b2b9-168b49db5ac3"
      },
      "outputs": [
        {
          "name": "stdout",
          "output_type": "stream",
          "text": [
            "                                                  log   date      time  \\\n",
            "20  03/22 08:51:06 INFO   :....mailslot_create: cr...  03/22  08:51:06   \n",
            "23  03/22 08:51:06 INFO   :.....mailslot_create: c...  03/22  08:51:06   \n",
            "25  03/22 08:51:06 INFO   :.....mailslot_create: c...  03/22  08:51:06   \n",
            "27  03/22 08:51:06 WARNING:.....mailslot_create: s...  03/22  08:51:06   \n",
            "30  03/22 08:51:06 INFO   :.....mailslot_create: c...  03/22  08:51:06   \n",
            "32  03/22 08:51:06 INFO   :.....mailslot_create: c...  03/22  08:51:06   \n",
            "33  03/22 08:51:06 WARNING:.....mailslot_create: s...  03/22  08:51:06   \n",
            "37  03/22 08:51:06 INFO   :.....mailslot_create: c...  03/22  08:51:06   \n",
            "39  03/22 08:51:06 INFO   :.....mailslot_create: c...  03/22  08:51:06   \n",
            "40  03/22 08:51:06 WARNING:.....mailslot_create: s...  03/22  08:51:06   \n",
            "43  03/22 08:51:06 INFO   :.....mailslot_create: c...  03/22  08:51:06   \n",
            "45  03/22 08:51:06 INFO   :.....mailslot_create: c...  03/22  08:51:06   \n",
            "46  03/22 08:51:06 WARNING:.....mailslot_create: s...  03/22  08:51:06   \n",
            "49  03/22 08:51:06 INFO   :.....mailslot_create: c...  03/22  08:51:06   \n",
            "51  03/22 08:51:06 INFO   :.....mailslot_create: c...  03/22  08:51:06   \n",
            "55  03/22 08:51:06 INFO   :.....mailslot_create: c...  03/22  08:51:06   \n",
            "57  03/22 08:51:06 INFO   :.....mailslot_create: c...  03/22  08:51:06   \n",
            "62  03/22 08:51:06 INFO   :.....mailslot_create: c...  03/22  08:51:06   \n",
            "64  03/22 08:51:06 INFO   :.....mailslot_create: c...  03/22  08:51:06   \n",
            "67  03/22 08:51:06 INFO   :......mailslot_create: ...  03/22  08:51:06   \n",
            "69  03/22 08:51:06 INFO   :......mailslot_create: ...  03/22  08:51:06   \n",
            "72  03/22 08:51:11 INFO   :.....mailslot_create: c...  03/22  08:51:11   \n",
            "74  03/22 08:51:11 INFO   :....mailslot_create: cr...  03/22  08:51:11   \n",
            "76  03/22 08:51:11 INFO   :...mailslot_create: cre...  03/22  08:51:11   \n",
            "78  03/22 08:51:11 INFO   :...mailslot_create: cre...  03/22  08:51:11   \n",
            "80  03/22 08:51:11 INFO   :...mailslot_create: cre...  03/22  08:51:11   \n",
            "\n",
            "   log_level        component  \\\n",
            "20      INFO  mailslot_create   \n",
            "23      INFO  mailslot_create   \n",
            "25      INFO  mailslot_create   \n",
            "27   WARNING  mailslot_create   \n",
            "30      INFO  mailslot_create   \n",
            "32      INFO  mailslot_create   \n",
            "33   WARNING  mailslot_create   \n",
            "37      INFO  mailslot_create   \n",
            "39      INFO  mailslot_create   \n",
            "40   WARNING  mailslot_create   \n",
            "43      INFO  mailslot_create   \n",
            "45      INFO  mailslot_create   \n",
            "46   WARNING  mailslot_create   \n",
            "49      INFO  mailslot_create   \n",
            "51      INFO  mailslot_create   \n",
            "55      INFO  mailslot_create   \n",
            "57      INFO  mailslot_create   \n",
            "62      INFO  mailslot_create   \n",
            "64      INFO  mailslot_create   \n",
            "67      INFO  mailslot_create   \n",
            "69      INFO  mailslot_create   \n",
            "72      INFO  mailslot_create   \n",
            "74      INFO  mailslot_create   \n",
            "76      INFO  mailslot_create   \n",
            "78      INFO  mailslot_create   \n",
            "80      INFO  mailslot_create   \n",
            "\n",
            "                                              message  \n",
            "20                        creating mailslot for timer  \n",
            "23                         creating mailslot for RSVP  \n",
            "25                 creating mailslot for RSVP via UDP  \n",
            "27  setsockopt(MCAST_ADD) failed - EDC8116I Addres...  \n",
            "30                         creating mailslot for RSVP  \n",
            "32                 creating mailslot for RSVP via UDP  \n",
            "33  setsockopt(MCAST_ADD) failed - EDC8116I Addres...  \n",
            "37                         creating mailslot for RSVP  \n",
            "39                 creating mailslot for RSVP via UDP  \n",
            "40  setsockopt(MCAST_ADD) failed - EDC8116I Addres...  \n",
            "43                         creating mailslot for RSVP  \n",
            "45                 creating mailslot for RSVP via UDP  \n",
            "46  setsockopt(MCAST_ADD) failed - EDC8116I Addres...  \n",
            "49                         creating mailslot for RSVP  \n",
            "51                 creating mailslot for RSVP via UDP  \n",
            "55                         creating mailslot for RSVP  \n",
            "57                 creating mailslot for RSVP via UDP  \n",
            "62                         creating mailslot for RSVP  \n",
            "64                 creating mailslot for RSVP via UDP  \n",
            "67                 creating socket for querying route  \n",
            "69  creating mailslot for route engine - informati...  \n",
            "72         creating socket for traffic control module  \n",
            "74              creating mailslot for RSVP client API  \n",
            "76                    creating mailslot for terminate  \n",
            "78                         creating mailslot for dump  \n",
            "80                creating mailslot for (broken) pipe  \n"
          ]
        }
      ],
      "source": [
        "# Filter the logs based on log level and pattern in message\n",
        "filtered_df = log_df[log_df['component'].str.contains(my_pattern, regex=False)]\n",
        "\n",
        "print(filtered_df)"
      ]
    },
    {
      "cell_type": "code",
      "execution_count": 88,
      "metadata": {
        "colab": {
          "base_uri": "https://localhost:8080/"
        },
        "id": "w60HVDaB6OYQ",
        "outputId": "cef30566-8bad-43eb-9503-df08aba59453"
      },
      "outputs": [
        {
          "name": "stdout",
          "output_type": "stream",
          "text": [
            "                                                  log   date      time  \\\n",
            "20  03/22 08:51:06 INFO   :....mailslot_create: cr...  03/22  08:51:06   \n",
            "23  03/22 08:51:06 INFO   :.....mailslot_create: c...  03/22  08:51:06   \n",
            "25  03/22 08:51:06 INFO   :.....mailslot_create: c...  03/22  08:51:06   \n",
            "27  03/22 08:51:06 WARNING:.....mailslot_create: s...  03/22  08:51:06   \n",
            "30  03/22 08:51:06 INFO   :.....mailslot_create: c...  03/22  08:51:06   \n",
            "32  03/22 08:51:06 INFO   :.....mailslot_create: c...  03/22  08:51:06   \n",
            "33  03/22 08:51:06 WARNING:.....mailslot_create: s...  03/22  08:51:06   \n",
            "37  03/22 08:51:06 INFO   :.....mailslot_create: c...  03/22  08:51:06   \n",
            "39  03/22 08:51:06 INFO   :.....mailslot_create: c...  03/22  08:51:06   \n",
            "40  03/22 08:51:06 WARNING:.....mailslot_create: s...  03/22  08:51:06   \n",
            "43  03/22 08:51:06 INFO   :.....mailslot_create: c...  03/22  08:51:06   \n",
            "45  03/22 08:51:06 INFO   :.....mailslot_create: c...  03/22  08:51:06   \n",
            "46  03/22 08:51:06 WARNING:.....mailslot_create: s...  03/22  08:51:06   \n",
            "49  03/22 08:51:06 INFO   :.....mailslot_create: c...  03/22  08:51:06   \n",
            "51  03/22 08:51:06 INFO   :.....mailslot_create: c...  03/22  08:51:06   \n",
            "55  03/22 08:51:06 INFO   :.....mailslot_create: c...  03/22  08:51:06   \n",
            "57  03/22 08:51:06 INFO   :.....mailslot_create: c...  03/22  08:51:06   \n",
            "62  03/22 08:51:06 INFO   :.....mailslot_create: c...  03/22  08:51:06   \n",
            "64  03/22 08:51:06 INFO   :.....mailslot_create: c...  03/22  08:51:06   \n",
            "67  03/22 08:51:06 INFO   :......mailslot_create: ...  03/22  08:51:06   \n",
            "69  03/22 08:51:06 INFO   :......mailslot_create: ...  03/22  08:51:06   \n",
            "72  03/22 08:51:11 INFO   :.....mailslot_create: c...  03/22  08:51:11   \n",
            "74  03/22 08:51:11 INFO   :....mailslot_create: cr...  03/22  08:51:11   \n",
            "76  03/22 08:51:11 INFO   :...mailslot_create: cre...  03/22  08:51:11   \n",
            "78  03/22 08:51:11 INFO   :...mailslot_create: cre...  03/22  08:51:11   \n",
            "80  03/22 08:51:11 INFO   :...mailslot_create: cre...  03/22  08:51:11   \n",
            "\n",
            "   log_level        component  \\\n",
            "20      INFO  mailslot_create   \n",
            "23      INFO  mailslot_create   \n",
            "25      INFO  mailslot_create   \n",
            "27   WARNING  mailslot_create   \n",
            "30      INFO  mailslot_create   \n",
            "32      INFO  mailslot_create   \n",
            "33   WARNING  mailslot_create   \n",
            "37      INFO  mailslot_create   \n",
            "39      INFO  mailslot_create   \n",
            "40   WARNING  mailslot_create   \n",
            "43      INFO  mailslot_create   \n",
            "45      INFO  mailslot_create   \n",
            "46   WARNING  mailslot_create   \n",
            "49      INFO  mailslot_create   \n",
            "51      INFO  mailslot_create   \n",
            "55      INFO  mailslot_create   \n",
            "57      INFO  mailslot_create   \n",
            "62      INFO  mailslot_create   \n",
            "64      INFO  mailslot_create   \n",
            "67      INFO  mailslot_create   \n",
            "69      INFO  mailslot_create   \n",
            "72      INFO  mailslot_create   \n",
            "74      INFO  mailslot_create   \n",
            "76      INFO  mailslot_create   \n",
            "78      INFO  mailslot_create   \n",
            "80      INFO  mailslot_create   \n",
            "\n",
            "                                              message  \n",
            "20                        creating mailslot for timer  \n",
            "23                         creating mailslot for RSVP  \n",
            "25                 creating mailslot for RSVP via UDP  \n",
            "27  setsockopt(MCAST_ADD) failed - EDC8116I Addres...  \n",
            "30                         creating mailslot for RSVP  \n",
            "32                 creating mailslot for RSVP via UDP  \n",
            "33  setsockopt(MCAST_ADD) failed - EDC8116I Addres...  \n",
            "37                         creating mailslot for RSVP  \n",
            "39                 creating mailslot for RSVP via UDP  \n",
            "40  setsockopt(MCAST_ADD) failed - EDC8116I Addres...  \n",
            "43                         creating mailslot for RSVP  \n",
            "45                 creating mailslot for RSVP via UDP  \n",
            "46  setsockopt(MCAST_ADD) failed - EDC8116I Addres...  \n",
            "49                         creating mailslot for RSVP  \n",
            "51                 creating mailslot for RSVP via UDP  \n",
            "55                         creating mailslot for RSVP  \n",
            "57                 creating mailslot for RSVP via UDP  \n",
            "62                         creating mailslot for RSVP  \n",
            "64                 creating mailslot for RSVP via UDP  \n",
            "67                 creating socket for querying route  \n",
            "69  creating mailslot for route engine - informati...  \n",
            "72         creating socket for traffic control module  \n",
            "74              creating mailslot for RSVP client API  \n",
            "76                    creating mailslot for terminate  \n",
            "78                         creating mailslot for dump  \n",
            "80                creating mailslot for (broken) pipe  \n",
            "                                                                                   count\n",
            "date  time     component       message                                                  \n",
            "03/22 08:51:06 mailslot_create creating mailslot for RSVP                              7\n",
            "                               creating mailslot for RSVP via UDP                      7\n",
            "                               setsockopt(MCAST_ADD) failed - EDC8116I Address...      4\n",
            "                               creating mailslot for route engine - informatio...      1\n",
            "                               creating mailslot for timer                             1\n",
            "                               creating socket for querying route                      1\n",
            "      08:51:11 mailslot_create creating mailslot for (broken) pipe                     1\n",
            "                               creating mailslot for RSVP client API                   1\n",
            "                               creating mailslot for dump                              1\n",
            "                               creating mailslot for terminate                         1\n",
            "                               creating socket for traffic control module              1\n",
            "                                                                                   count\n",
            "date  time     component       message                                                  \n",
            "03/22 08:51:06 mailslot_create creating mailslot for RSVP                              7\n",
            "                               creating mailslot for RSVP via UDP                      7\n",
            "                               setsockopt(MCAST_ADD) failed - EDC8116I Address...      4\n",
            "                               creating mailslot for route engine - informatio...      1\n",
            "                               creating mailslot for timer                             1\n",
            "                               creating socket for querying route                      1\n",
            "      08:51:11 mailslot_create creating mailslot for (broken) pipe                     1\n",
            "                               creating mailslot for RSVP client API                   1\n",
            "                               creating mailslot for dump                              1\n",
            "                               creating mailslot for terminate                         1\n",
            "                               creating socket for traffic control module              1\n",
            "Output written to output.xlsx\n"
          ]
        }
      ],
      "source": [
        "rows, columns = filtered_df.shape\n",
        "if rows == 0:\n",
        "    print(\"No match pattern found !!\")\n",
        "else:\n",
        "    print(filtered_df)\n",
        "\n",
        "    # Create a DataFrame with Date, Component, and Message\n",
        "    Data_ins2 = filtered_df[['date', 'time', 'component', 'message']].value_counts(dropna=False).to_frame()\n",
        "    Data_ins2.rename(columns={0: 'Count'}, inplace=True)\n",
        "    print(Data_ins2.head(60))\n",
        "\n",
        "    # Sort the dataframe based on emerging date\n",
        "    Data_ins2.sort_values(by='date', inplace=True)\n",
        "    print(Data_ins2.head(60))\n",
        "\n",
        "    # Generate an output Excel sheet\n",
        "    output_file = \"output.xlsx\"\n",
        "    Data_ins2.to_excel(output_file, sheet_name=str(my_pattern_input))\n",
        "    print(f\"Output written to {output_file}\")"
      ]
    }
  ],
  "metadata": {
    "colab": {
      "provenance": []
    },
    "kernelspec": {
      "display_name": "Python 3",
      "name": "python3"
    },
    "language_info": {
      "name": "python"
    }
  },
  "nbformat": 4,
  "nbformat_minor": 0
}
