{
 "cells": [
  {
   "cell_type": "code",
   "execution_count": 2,
   "id": "de38d989",
   "metadata": {},
   "outputs": [],
   "source": [
    "from sklearn.datasets import make_classification\n",
    "from matplotlib import pyplot as py\n",
    "from sklearn.linear_model import LogisticRegression\n",
    "from sklearn.model_selection import train_test_split\n",
    "from sklearn.metrics import confusion_matrix\n",
    "import pandas as pd"
   ]
  },
  {
   "cell_type": "code",
   "execution_count": 4,
   "id": "a69dd2bc",
   "metadata": {},
   "outputs": [],
   "source": [
    "x,y= make_classification(\n",
    "    n_samples=100, \n",
    "    n_features=1, \n",
    "    n_classes=2,\n",
    "    n_clusters_per_class=1, \n",
    "    flip_y=0.03, \n",
    "    n_informative=1, \n",
    "    n_redundant=0, \n",
    "    n_repeated=0\n",
    ")"
   ]
  },
  {
   "cell_type": "code",
   "execution_count": 5,
   "id": "79b633fb",
   "metadata": {},
   "outputs": [
    {
     "data": {
      "text/html": [
       "<div>\n",
       "<style scoped>\n",
       "    .dataframe tbody tr th:only-of-type {\n",
       "        vertical-align: middle;\n",
       "    }\n",
       "\n",
       "    .dataframe tbody tr th {\n",
       "        vertical-align: top;\n",
       "    }\n",
       "\n",
       "    .dataframe thead th {\n",
       "        text-align: right;\n",
       "    }\n",
       "</style>\n",
       "<table border=\"1\" class=\"dataframe\">\n",
       "  <thead>\n",
       "    <tr style=\"text-align: right;\">\n",
       "      <th></th>\n",
       "      <th>Substationcode</th>\n",
       "      <th>Circlecode</th>\n",
       "      <th>Transformervolt rated</th>\n",
       "      <th>Maxvolt actual</th>\n",
       "      <th>Minvolt actual</th>\n",
       "      <th>Max volt permissible</th>\n",
       "      <th>Min volt permissible</th>\n",
       "      <th>Deviation max volt</th>\n",
       "      <th>Deviation min volt</th>\n",
       "      <th>Status max volt</th>\n",
       "      <th>Status min volt</th>\n",
       "    </tr>\n",
       "  </thead>\n",
       "  <tbody>\n",
       "    <tr>\n",
       "      <th>0</th>\n",
       "      <td>1010001</td>\n",
       "      <td>101</td>\n",
       "      <td>110</td>\n",
       "      <td>110.0</td>\n",
       "      <td>95.0</td>\n",
       "      <td>121.0</td>\n",
       "      <td>99.0</td>\n",
       "      <td>11.0</td>\n",
       "      <td>4.0</td>\n",
       "      <td>1</td>\n",
       "      <td>0</td>\n",
       "    </tr>\n",
       "    <tr>\n",
       "      <th>1</th>\n",
       "      <td>1010002</td>\n",
       "      <td>101</td>\n",
       "      <td>110</td>\n",
       "      <td>116.0</td>\n",
       "      <td>103.0</td>\n",
       "      <td>121.0</td>\n",
       "      <td>99.0</td>\n",
       "      <td>5.0</td>\n",
       "      <td>-4.0</td>\n",
       "      <td>1</td>\n",
       "      <td>1</td>\n",
       "    </tr>\n",
       "    <tr>\n",
       "      <th>2</th>\n",
       "      <td>1010003</td>\n",
       "      <td>101</td>\n",
       "      <td>110</td>\n",
       "      <td>109.0</td>\n",
       "      <td>91.2</td>\n",
       "      <td>121.0</td>\n",
       "      <td>99.0</td>\n",
       "      <td>12.0</td>\n",
       "      <td>7.8</td>\n",
       "      <td>1</td>\n",
       "      <td>0</td>\n",
       "    </tr>\n",
       "    <tr>\n",
       "      <th>3</th>\n",
       "      <td>1010004</td>\n",
       "      <td>101</td>\n",
       "      <td>110</td>\n",
       "      <td>109.0</td>\n",
       "      <td>91.2</td>\n",
       "      <td>121.0</td>\n",
       "      <td>99.0</td>\n",
       "      <td>12.0</td>\n",
       "      <td>7.8</td>\n",
       "      <td>1</td>\n",
       "      <td>0</td>\n",
       "    </tr>\n",
       "    <tr>\n",
       "      <th>4</th>\n",
       "      <td>1020001</td>\n",
       "      <td>102</td>\n",
       "      <td>22</td>\n",
       "      <td>24.5</td>\n",
       "      <td>19.5</td>\n",
       "      <td>24.2</td>\n",
       "      <td>19.8</td>\n",
       "      <td>-0.3</td>\n",
       "      <td>0.3</td>\n",
       "      <td>0</td>\n",
       "      <td>0</td>\n",
       "    </tr>\n",
       "    <tr>\n",
       "      <th>5</th>\n",
       "      <td>1020002</td>\n",
       "      <td>102</td>\n",
       "      <td>11</td>\n",
       "      <td>12.8</td>\n",
       "      <td>10.0</td>\n",
       "      <td>12.1</td>\n",
       "      <td>9.9</td>\n",
       "      <td>-0.7</td>\n",
       "      <td>-0.1</td>\n",
       "      <td>0</td>\n",
       "      <td>1</td>\n",
       "    </tr>\n",
       "    <tr>\n",
       "      <th>6</th>\n",
       "      <td>1020003</td>\n",
       "      <td>102</td>\n",
       "      <td>11</td>\n",
       "      <td>11.4</td>\n",
       "      <td>10.4</td>\n",
       "      <td>12.1</td>\n",
       "      <td>9.9</td>\n",
       "      <td>0.7</td>\n",
       "      <td>-0.5</td>\n",
       "      <td>1</td>\n",
       "      <td>1</td>\n",
       "    </tr>\n",
       "    <tr>\n",
       "      <th>7</th>\n",
       "      <td>1020004</td>\n",
       "      <td>102</td>\n",
       "      <td>33</td>\n",
       "      <td>37.0</td>\n",
       "      <td>28.0</td>\n",
       "      <td>36.3</td>\n",
       "      <td>29.7</td>\n",
       "      <td>-0.7</td>\n",
       "      <td>1.7</td>\n",
       "      <td>0</td>\n",
       "      <td>0</td>\n",
       "    </tr>\n",
       "    <tr>\n",
       "      <th>8</th>\n",
       "      <td>1020005</td>\n",
       "      <td>102</td>\n",
       "      <td>22</td>\n",
       "      <td>23.0</td>\n",
       "      <td>20.0</td>\n",
       "      <td>24.2</td>\n",
       "      <td>19.8</td>\n",
       "      <td>1.2</td>\n",
       "      <td>-0.2</td>\n",
       "      <td>1</td>\n",
       "      <td>1</td>\n",
       "    </tr>\n",
       "    <tr>\n",
       "      <th>9</th>\n",
       "      <td>1020006</td>\n",
       "      <td>102</td>\n",
       "      <td>22</td>\n",
       "      <td>24.2</td>\n",
       "      <td>18.9</td>\n",
       "      <td>24.2</td>\n",
       "      <td>19.8</td>\n",
       "      <td>0.0</td>\n",
       "      <td>0.9</td>\n",
       "      <td>0</td>\n",
       "      <td>0</td>\n",
       "    </tr>\n",
       "  </tbody>\n",
       "</table>\n",
       "</div>"
      ],
      "text/plain": [
       "   Substationcode  Circlecode  Transformervolt rated  Maxvolt actual  \\\n",
       "0         1010001         101                    110           110.0   \n",
       "1         1010002         101                    110           116.0   \n",
       "2         1010003         101                    110           109.0   \n",
       "3         1010004         101                    110           109.0   \n",
       "4         1020001         102                     22            24.5   \n",
       "5         1020002         102                     11            12.8   \n",
       "6         1020003         102                     11            11.4   \n",
       "7         1020004         102                     33            37.0   \n",
       "8         1020005         102                     22            23.0   \n",
       "9         1020006         102                     22            24.2   \n",
       "\n",
       "   Minvolt actual  Max volt permissible  Min volt permissible  \\\n",
       "0            95.0                 121.0                  99.0   \n",
       "1           103.0                 121.0                  99.0   \n",
       "2            91.2                 121.0                  99.0   \n",
       "3            91.2                 121.0                  99.0   \n",
       "4            19.5                  24.2                  19.8   \n",
       "5            10.0                  12.1                   9.9   \n",
       "6            10.4                  12.1                   9.9   \n",
       "7            28.0                  36.3                  29.7   \n",
       "8            20.0                  24.2                  19.8   \n",
       "9            18.9                  24.2                  19.8   \n",
       "\n",
       "   Deviation max volt  Deviation min volt  Status max volt  Status min volt  \n",
       "0                11.0                 4.0                1                0  \n",
       "1                 5.0                -4.0                1                1  \n",
       "2                12.0                 7.8                1                0  \n",
       "3                12.0                 7.8                1                0  \n",
       "4                -0.3                 0.3                0                0  \n",
       "5                -0.7                -0.1                0                1  \n",
       "6                 0.7                -0.5                1                1  \n",
       "7                -0.7                 1.7                0                0  \n",
       "8                 1.2                -0.2                1                1  \n",
       "9                 0.0                 0.9                0                0  "
      ]
     },
     "execution_count": 5,
     "metadata": {},
     "output_type": "execute_result"
    }
   ],
   "source": [
    "import pandas as pd\n",
    "import numpy as np\n",
    "import seaborn as sns\n",
    "import matplotlib.pyplot as plt\n",
    "import math\n",
    "\n",
    "trdata=pd.read_csv(r'C:\\Users\\DELL\\Documents\\trlist.csv')\n",
    "trdata.head(10)"
   ]
  },
  {
   "cell_type": "code",
   "execution_count": 6,
   "id": "d72ea00c",
   "metadata": {},
   "outputs": [
    {
     "data": {
      "text/plain": [
       "(499, 11)"
      ]
     },
     "execution_count": 6,
     "metadata": {},
     "output_type": "execute_result"
    }
   ],
   "source": [
    "trdata.shape"
   ]
  },
  {
   "cell_type": "code",
   "execution_count": 7,
   "id": "5a9a926e",
   "metadata": {},
   "outputs": [
    {
     "data": {
      "text/plain": [
       "Substationcode           0\n",
       "Circlecode               0\n",
       "Transformervolt rated    0\n",
       "Maxvolt actual           0\n",
       "Minvolt actual           0\n",
       "Max volt permissible     0\n",
       "Min volt permissible     0\n",
       "Deviation max volt       0\n",
       "Deviation min volt       0\n",
       "Status max volt          0\n",
       "Status min volt          0\n",
       "dtype: int64"
      ]
     },
     "execution_count": 7,
     "metadata": {},
     "output_type": "execute_result"
    }
   ],
   "source": [
    "trdata.isnull().sum()"
   ]
  },
  {
   "cell_type": "code",
   "execution_count": 8,
   "id": "74c50c26",
   "metadata": {},
   "outputs": [
    {
     "name": "stdout",
     "output_type": "stream",
     "text": [
      "     Substationcode  Circlecode  Transformervolt rated  Maxvolt actual  \\\n",
      "0           1010001         101                    110           110.0   \n",
      "1           1010002         101                    110           116.0   \n",
      "2           1010003         101                    110           109.0   \n",
      "3           1010004         101                    110           109.0   \n",
      "4           1020001         102                     22            24.5   \n",
      "..              ...         ...                    ...             ...   \n",
      "494         8030020         803                     22            22.6   \n",
      "495         8030021         803                     22            23.5   \n",
      "496         8030022         803                     22            24.4   \n",
      "497         8030023         803                     22            23.0   \n",
      "498         8030024         803                     22            26.0   \n",
      "\n",
      "     Minvolt actual  Max volt permissible  Min volt permissible  \\\n",
      "0              95.0                 121.0                  99.0   \n",
      "1             103.0                 121.0                  99.0   \n",
      "2              91.2                 121.0                  99.0   \n",
      "3              91.2                 121.0                  99.0   \n",
      "4              19.5                  24.2                  19.8   \n",
      "..              ...                   ...                   ...   \n",
      "494            20.0                  24.2                  19.8   \n",
      "495            20.0                  24.2                  19.8   \n",
      "496            18.8                  24.2                  19.8   \n",
      "497            21.0                  24.2                  19.8   \n",
      "498            19.0                  24.2                  19.8   \n",
      "\n",
      "     Deviation max volt  Deviation min volt  Status min volt  \n",
      "0                  11.0                 4.0                0  \n",
      "1                   5.0                -4.0                1  \n",
      "2                  12.0                 7.8                0  \n",
      "3                  12.0                 7.8                0  \n",
      "4                  -0.3                 0.3                0  \n",
      "..                  ...                 ...              ...  \n",
      "494                 1.6                -0.2                1  \n",
      "495                 0.7                -0.2                1  \n",
      "496                -0.2                 1.0                0  \n",
      "497                 1.2                -1.2                1  \n",
      "498                -1.8                 0.8                0  \n",
      "\n",
      "[499 rows x 10 columns]\n",
      "0      1\n",
      "1      1\n",
      "2      1\n",
      "3      1\n",
      "4      0\n",
      "      ..\n",
      "494    1\n",
      "495    1\n",
      "496    0\n",
      "497    1\n",
      "498    0\n",
      "Name: Status max volt, Length: 499, dtype: int64\n"
     ]
    }
   ],
   "source": [
    "y=trdata['Status max volt']\n",
    "x=trdata.drop(['Status max volt'], axis=1)\n",
    "print(x)\n",
    "print(y)"
   ]
  },
  {
   "cell_type": "code",
   "execution_count": 9,
   "id": "2e240797",
   "metadata": {},
   "outputs": [
    {
     "data": {
      "text/plain": [
       "<bound method NDFrame.describe of      Substationcode  Circlecode  Transformervolt rated  Maxvolt actual  \\\n",
       "0           1010001         101                    110           110.0   \n",
       "1           1010002         101                    110           116.0   \n",
       "2           1010003         101                    110           109.0   \n",
       "3           1010004         101                    110           109.0   \n",
       "4           1020001         102                     22            24.5   \n",
       "..              ...         ...                    ...             ...   \n",
       "494         8030020         803                     22            22.6   \n",
       "495         8030021         803                     22            23.5   \n",
       "496         8030022         803                     22            24.4   \n",
       "497         8030023         803                     22            23.0   \n",
       "498         8030024         803                     22            26.0   \n",
       "\n",
       "     Minvolt actual  Max volt permissible  Min volt permissible  \\\n",
       "0              95.0                 121.0                  99.0   \n",
       "1             103.0                 121.0                  99.0   \n",
       "2              91.2                 121.0                  99.0   \n",
       "3              91.2                 121.0                  99.0   \n",
       "4              19.5                  24.2                  19.8   \n",
       "..              ...                   ...                   ...   \n",
       "494            20.0                  24.2                  19.8   \n",
       "495            20.0                  24.2                  19.8   \n",
       "496            18.8                  24.2                  19.8   \n",
       "497            21.0                  24.2                  19.8   \n",
       "498            19.0                  24.2                  19.8   \n",
       "\n",
       "     Deviation max volt  Deviation min volt  Status max volt  Status min volt  \n",
       "0                  11.0                 4.0                1                0  \n",
       "1                   5.0                -4.0                1                1  \n",
       "2                  12.0                 7.8                1                0  \n",
       "3                  12.0                 7.8                1                0  \n",
       "4                  -0.3                 0.3                0                0  \n",
       "..                  ...                 ...              ...              ...  \n",
       "494                 1.6                -0.2                1                1  \n",
       "495                 0.7                -0.2                1                1  \n",
       "496                -0.2                 1.0                0                0  \n",
       "497                 1.2                -1.2                1                1  \n",
       "498                -1.8                 0.8                0                0  \n",
       "\n",
       "[499 rows x 11 columns]>"
      ]
     },
     "execution_count": 9,
     "metadata": {},
     "output_type": "execute_result"
    }
   ],
   "source": [
    "trdata.describe"
   ]
  },
  {
   "cell_type": "code",
   "execution_count": 10,
   "id": "17c8b916",
   "metadata": {},
   "outputs": [
    {
     "data": {
      "text/plain": [
       "Index(['Substationcode', 'Circlecode', 'Transformervolt rated',\n",
       "       'Maxvolt actual', 'Minvolt actual', 'Max volt permissible',\n",
       "       'Min volt permissible', 'Deviation max volt', 'Deviation min volt',\n",
       "       'Status max volt', 'Status min volt'],\n",
       "      dtype='object')"
      ]
     },
     "execution_count": 10,
     "metadata": {},
     "output_type": "execute_result"
    }
   ],
   "source": [
    "trdata.columns"
   ]
  },
  {
   "cell_type": "code",
   "execution_count": 11,
   "id": "fe893c8c",
   "metadata": {},
   "outputs": [
    {
     "data": {
      "text/plain": [
       "<matplotlib.collections.PathCollection at 0x296340b5ca0>"
      ]
     },
     "execution_count": 11,
     "metadata": {},
     "output_type": "execute_result"
    },
    {
     "data": {
      "image/png": "[encoded data removed]",
      "text/plain": [
       "<Figure size 432x288 with 1 Axes>"
      ]
     },
     "metadata": {
      "needs_background": "light"
     },
     "output_type": "display_data"
    }
   ],
   "source": [
    "plt.scatter(trdata['Transformervolt rated'], trdata['Status max volt'], marker='+',color='red')"
   ]
  },
  {
   "cell_type": "code",
   "execution_count": 12,
   "id": "1f39f2d4",
   "metadata": {},
   "outputs": [
    {
     "data": {
      "text/plain": [
       "[<matplotlib.lines.Line2D at 0x296341b9220>]"
      ]
     },
     "execution_count": 12,
     "metadata": {},
     "output_type": "execute_result"
    },
    {
     "data": {
      "image/png": "[encoded data removed]",
      "text/plain": [
       "<Figure size 432x288 with 1 Axes>"
      ]
     },
     "metadata": {
      "needs_background": "light"
     },
     "output_type": "display_data"
    }
   ],
   "source": [
    "plt.plot(trdata['Maxvolt actual'])"
   ]
  },
  {
   "cell_type": "code",
   "execution_count": 13,
   "id": "0d63f896",
   "metadata": {},
   "outputs": [
    {
     "data": {
      "text/plain": [
       "<AxesSubplot:xlabel='Status max volt', ylabel='count'>"
      ]
     },
     "execution_count": 13,
     "metadata": {},
     "output_type": "execute_result"
    },
    {
     "data": {
      "image/png": "[encoded data removed]",
      "text/plain": [
       "<Figure size 432x288 with 1 Axes>"
      ]
     },
     "metadata": {
      "needs_background": "light"
     },
     "output_type": "display_data"
    }
   ],
   "source": [
    "sns.countplot(x='Status max volt', data=trdata)"
   ]
  },
  {
   "cell_type": "code",
   "execution_count": 14,
   "id": "ce608cf8",
   "metadata": {},
   "outputs": [
    {
     "data": {
      "text/plain": [
       "<AxesSubplot:xlabel='Status min volt', ylabel='count'>"
      ]
     },
     "execution_count": 14,
     "metadata": {},
     "output_type": "execute_result"
    },
    {
     "data": {
      "image/png": "[encoded data removed]",
      "text/plain": [
       "<Figure size 432x288 with 1 Axes>"
      ]
     },
     "metadata": {
      "needs_background": "light"
     },
     "output_type": "display_data"
    }
   ],
   "source": [
    "sns.countplot(x='Status min volt', data=trdata)"
   ]
  },
  {
   "cell_type": "code",
   "execution_count": 15,
   "id": "a3b4ca0b",
   "metadata": {},
   "outputs": [
    {
     "data": {
      "text/plain": [
       "<AxesSubplot:xlabel='Status max volt', ylabel='count'>"
      ]
     },
     "execution_count": 15,
     "metadata": {},
     "output_type": "execute_result"
    },
    {
     "data": {
      "image/png": "[encoded data removed]",
      "text/plain": [
       "<Figure size 432x288 with 1 Axes>"
      ]
     },
     "metadata": {
      "needs_background": "light"
     },
     "output_type": "display_data"
    }
   ],
   "source": [
    "sns.countplot(x='Status max volt', hue='Transformervolt rated', data=trdata)"
   ]
  },
  {
   "cell_type": "code",
   "execution_count": 16,
   "id": "96ac5c99",
   "metadata": {},
   "outputs": [
    {
     "data": {
      "text/plain": [
       "Substationcode           0\n",
       "Circlecode               0\n",
       "Transformervolt rated    0\n",
       "Maxvolt actual           0\n",
       "Minvolt actual           0\n",
       "Max volt permissible     0\n",
       "Min volt permissible     0\n",
       "Deviation max volt       0\n",
       "Deviation min volt       0\n",
       "Status max volt          0\n",
       "Status min volt          0\n",
       "dtype: int64"
      ]
     },
     "execution_count": 16,
     "metadata": {},
     "output_type": "execute_result"
    }
   ],
   "source": [
    "trdata.isnull().sum()"
   ]
  },
  {
   "cell_type": "code",
   "execution_count": 17,
   "id": "ed070348",
   "metadata": {},
   "outputs": [],
   "source": [
    "from sklearn.model_selection import train_test_split"
   ]
  },
  {
   "cell_type": "code",
   "execution_count": 18,
   "id": "9082c240",
   "metadata": {},
   "outputs": [],
   "source": [
    "x_train, x_test, y_train, y_test=train_test_split(x,y,test_size=0.3, random_state=42)"
   ]
  },
  {
   "cell_type": "code",
   "execution_count": 19,
   "id": "f9abee1c",
   "metadata": {},
   "outputs": [],
   "source": [
    "from sklearn.linear_model import LogisticRegression"
   ]
  },
  {
   "cell_type": "code",
   "execution_count": 20,
   "id": "c5fff5e5",
   "metadata": {},
   "outputs": [],
   "source": [
    "logmodel=LogisticRegression()"
   ]
  },
  {
   "cell_type": "code",
   "execution_count": 21,
   "id": "94851b5f",
   "metadata": {},
   "outputs": [],
   "source": [
    "log_fit=logmodel.fit(x_train,y_train)"
   ]
  },
  {
   "cell_type": "code",
   "execution_count": 22,
   "id": "d084dab3",
   "metadata": {},
   "outputs": [],
   "source": [
    "predictions=log_fit.predict(x_test)"
   ]
  },
  {
   "cell_type": "code",
   "execution_count": 23,
   "id": "f90e689a",
   "metadata": {},
   "outputs": [],
   "source": [
    "from sklearn.metrics import classification_report"
   ]
  },
  {
   "cell_type": "code",
   "execution_count": 24,
   "id": "7ea197b5",
   "metadata": {},
   "outputs": [
    {
     "name": "stdout",
     "output_type": "stream",
     "text": [
      "              precision    recall  f1-score   support\n",
      "\n",
      "           0       0.00      0.00      0.00        20\n",
      "           1       0.87      1.00      0.93       130\n",
      "\n",
      "    accuracy                           0.87       150\n",
      "   macro avg       0.43      0.50      0.46       150\n",
      "weighted avg       0.75      0.87      0.80       150\n",
      "\n"
     ]
    },
    {
     "name": "stderr",
     "output_type": "stream",
     "text": [
      "C:\\Users\\DELL\\anaconda3\\lib\\site-packages\\sklearn\\metrics\\_classification.py:1248: UndefinedMetricWarning: Precision and F-score are ill-defined and being set to 0.0 in labels with no predicted samples. Use `zero_division` parameter to control this behavior.\n",
      "  _warn_prf(average, modifier, msg_start, len(result))\n",
      "C:\\Users\\DELL\\anaconda3\\lib\\site-packages\\sklearn\\metrics\\_classification.py:1248: UndefinedMetricWarning: Precision and F-score are ill-defined and being set to 0.0 in labels with no predicted samples. Use `zero_division` parameter to control this behavior.\n",
      "  _warn_prf(average, modifier, msg_start, len(result))\n",
      "C:\\Users\\DELL\\anaconda3\\lib\\site-packages\\sklearn\\metrics\\_classification.py:1248: UndefinedMetricWarning: Precision and F-score are ill-defined and being set to 0.0 in labels with no predicted samples. Use `zero_division` parameter to control this behavior.\n",
      "  _warn_prf(average, modifier, msg_start, len(result))\n"
     ]
    }
   ],
   "source": [
    "print(classification_report(y_test, predictions))"
   ]
  },
  {
   "cell_type": "code",
   "execution_count": 25,
   "id": "c2ab1af4",
   "metadata": {},
   "outputs": [],
   "source": [
    "from sklearn.metrics import confusion_matrix"
   ]
  },
  {
   "cell_type": "code",
   "execution_count": 26,
   "id": "fe6e8daf",
   "metadata": {},
   "outputs": [
    {
     "data": {
      "text/plain": [
       "array([[  0,  20],\n",
       "       [  0, 130]], dtype=int64)"
      ]
     },
     "execution_count": 26,
     "metadata": {},
     "output_type": "execute_result"
    }
   ],
   "source": [
    "confusion_matrix(y_test, predictions)"
   ]
  },
  {
   "cell_type": "code",
   "execution_count": null,
   "id": "6174eb91",
   "metadata": {},
   "outputs": [],
   "source": []
  }
 ],
 "metadata": {
  "kernelspec": {
   "display_name": "Python 3 (ipykernel)",
   "language": "python",
   "name": "python3"
  },
  "language_info": {
   "codemirror_mode": {
    "name": "ipython",
    "version": 3
   },
   "file_extension": ".py",
   "mimetype": "text/x-python",
   "name": "python",
   "nbconvert_exporter": "python",
   "pygments_lexer": "ipython3",
   "version": "3.9.12"
  }
 },
 "nbformat": 4,
 "nbformat_minor": 5
}
